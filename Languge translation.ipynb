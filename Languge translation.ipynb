{
 "cells": [
  {
   "cell_type": "markdown",
   "id": "85eb00ef",
   "metadata": {},
   "source": [
    "# LANGUAGE TRANSLATION"
   ]
  },
  {
   "cell_type": "code",
   "execution_count": 1,
   "id": "296c9c58",
   "metadata": {},
   "outputs": [
    {
     "name": "stdout",
     "output_type": "stream",
     "text": [
      "Requirement already satisfied: pip in c:\\users\\91963\\anaconda1\\lib\\site-packages (24.2)\n",
      "Note: you may need to restart the kernel to use updated packages.\n"
     ]
    }
   ],
   "source": [
    "pip install --upgrade pip"
   ]
  },
  {
   "cell_type": "code",
   "execution_count": 2,
   "id": "ded8b00c",
   "metadata": {
    "collapsed": true
   },
   "outputs": [
    {
     "name": "stdout",
     "output_type": "stream",
     "text": [
      "Requirement already satisfied: googletrans==4.0.0-rc1 in c:\\users\\91963\\anaconda1\\lib\\site-packages (4.0.0rc1)\n",
      "Requirement already satisfied: httpx==0.13.3 in c:\\users\\91963\\anaconda1\\lib\\site-packages (from googletrans==4.0.0-rc1) (0.13.3)\n",
      "Requirement already satisfied: certifi in c:\\users\\91963\\anaconda1\\lib\\site-packages (from httpx==0.13.3->googletrans==4.0.0-rc1) (2023.5.7)\n",
      "Requirement already satisfied: hstspreload in c:\\users\\91963\\anaconda1\\lib\\site-packages (from httpx==0.13.3->googletrans==4.0.0-rc1) (2024.8.1)\n",
      "Requirement already satisfied: sniffio in c:\\users\\91963\\anaconda1\\lib\\site-packages (from httpx==0.13.3->googletrans==4.0.0-rc1) (1.2.0)\n",
      "Requirement already satisfied: chardet==3.* in c:\\users\\91963\\anaconda1\\lib\\site-packages (from httpx==0.13.3->googletrans==4.0.0-rc1) (3.0.4)\n",
      "Requirement already satisfied: idna==2.* in c:\\users\\91963\\anaconda1\\lib\\site-packages (from httpx==0.13.3->googletrans==4.0.0-rc1) (2.10)\n",
      "Requirement already satisfied: rfc3986<2,>=1.3 in c:\\users\\91963\\anaconda1\\lib\\site-packages (from httpx==0.13.3->googletrans==4.0.0-rc1) (1.5.0)\n",
      "Requirement already satisfied: httpcore==0.9.* in c:\\users\\91963\\anaconda1\\lib\\site-packages (from httpx==0.13.3->googletrans==4.0.0-rc1) (0.9.1)\n",
      "Requirement already satisfied: h11<0.10,>=0.8 in c:\\users\\91963\\anaconda1\\lib\\site-packages (from httpcore==0.9.*->httpx==0.13.3->googletrans==4.0.0-rc1) (0.9.0)\n",
      "Requirement already satisfied: h2==3.* in c:\\users\\91963\\anaconda1\\lib\\site-packages (from httpcore==0.9.*->httpx==0.13.3->googletrans==4.0.0-rc1) (3.2.0)\n",
      "Requirement already satisfied: hyperframe<6,>=5.2.0 in c:\\users\\91963\\anaconda1\\lib\\site-packages (from h2==3.*->httpcore==0.9.*->httpx==0.13.3->googletrans==4.0.0-rc1) (5.2.0)\n",
      "Requirement already satisfied: hpack<4,>=3.0 in c:\\users\\91963\\anaconda1\\lib\\site-packages (from h2==3.*->httpcore==0.9.*->httpx==0.13.3->googletrans==4.0.0-rc1) (3.0.0)\n",
      "Note: you may need to restart the kernel to use updated packages.\n"
     ]
    }
   ],
   "source": [
    "pip install --upgrade googletrans==4.0.0-rc1"
   ]
  },
  {
   "cell_type": "code",
   "execution_count": 11,
   "id": "b011110b",
   "metadata": {},
   "outputs": [],
   "source": [
    "# pip install translate"
   ]
  },
  {
   "cell_type": "code",
   "execution_count": 1,
   "id": "2d257b69",
   "metadata": {},
   "outputs": [],
   "source": [
    "import pandas as pd\n",
    "from googletrans import Translator"
   ]
  },
  {
   "cell_type": "code",
   "execution_count": 2,
   "id": "23c5e930",
   "metadata": {},
   "outputs": [],
   "source": [
    "import warnings as wn\n",
    "wn.filterwarnings(\"ignore\")"
   ]
  },
  {
   "cell_type": "code",
   "execution_count": 4,
   "id": "9216e348",
   "metadata": {},
   "outputs": [],
   "source": [
    "dt=pd.read_csv(\"Text.csv\")"
   ]
  },
  {
   "cell_type": "code",
   "execution_count": 5,
   "id": "961fb227",
   "metadata": {},
   "outputs": [],
   "source": [
    "df=dt.head(10)"
   ]
  },
  {
   "cell_type": "code",
   "execution_count": 6,
   "id": "4f05b220",
   "metadata": {},
   "outputs": [],
   "source": [
    "translator = Translator()\n",
    "\n",
    "# Function to split text into chunks\n",
    "def split_text(text, max_length=5000):\n",
    "    return [text[i:i+max_length] for i in range(0, len(text), max_length)]\n",
    "\n",
    "# Function to translate text with chunking\n",
    "def translate_text(text, target_language='kn'):\n",
    "    translated_chunks = translator.translate(text,dest=target_language)\n",
    "    return translated_chunks.text\n",
    "\n",
    "# Apply the function to the column\n",
    "df['translated_text'] = df['Text'].apply(translate_text)"
   ]
  },
  {
   "cell_type": "code",
   "execution_count": 7,
   "id": "76181354",
   "metadata": {},
   "outputs": [
    {
     "data": {
      "text/html": [
       "<div>\n",
       "<style scoped>\n",
       "    .dataframe tbody tr th:only-of-type {\n",
       "        vertical-align: middle;\n",
       "    }\n",
       "\n",
       "    .dataframe tbody tr th {\n",
       "        vertical-align: top;\n",
       "    }\n",
       "\n",
       "    .dataframe thead th {\n",
       "        text-align: right;\n",
       "    }\n",
       "</style>\n",
       "<table border=\"1\" class=\"dataframe\">\n",
       "  <thead>\n",
       "    <tr style=\"text-align: right;\">\n",
       "      <th></th>\n",
       "      <th>Text</th>\n",
       "      <th>translated_text</th>\n",
       "    </tr>\n",
       "  </thead>\n",
       "  <tbody>\n",
       "    <tr>\n",
       "      <th>0</th>\n",
       "      <td>I didnt go in with big hopes, but i was expect...</td>\n",
       "      <td>ನಾನು ದೊಡ್ಡ ಭರವಸೆಗಳೊಂದಿಗೆ ಹೋಗಲಿಲ್ಲ, ಆದರೆ ನಾನು ಅ...</td>\n",
       "    </tr>\n",
       "    <tr>\n",
       "      <th>1</th>\n",
       "      <td>A unique genre, a well written story (script) ...</td>\n",
       "      <td>ಒಂದು ಅನನ್ಯ ಪ್ರಕಾರ, ಚೆನ್ನಾಗಿ ಬರೆದ ಕಥೆ (ಸ್ಕ್ರಿಪ್...</td>\n",
       "    </tr>\n",
       "    <tr>\n",
       "      <th>2</th>\n",
       "      <td>Majestic at scale, grandeur in VFX, and great ...</td>\n",
       "      <td>ಮೆಜೆಸ್ಟಿಕ್ ಅಟ್ ಸ್ಕೇಲ್, ವಿಎಫ್‌ಎಕ್ಸ್‌ನಲ್ಲಿ ಭವ್ಯತ...</td>\n",
       "    </tr>\n",
       "    <tr>\n",
       "      <th>3</th>\n",
       "      <td>\"Kalki 2898\" is not just a movie; it's an expe...</td>\n",
       "      <td>\"ಕಲ್ಕಿ 2898\" ಕೇವಲ ಚಲನಚಿತ್ರವಲ್ಲ;ಇದು ವೈಜ್ಞಾನಿಕ ಕ...</td>\n",
       "    </tr>\n",
       "    <tr>\n",
       "      <th>4</th>\n",
       "      <td>Best Indian movie Nagi combined Hindu mytholog...</td>\n",
       "      <td>ಅತ್ಯುತ್ತಮ ಭಾರತೀಯ ಚಲನಚಿತ್ರ ನಾಗಿ ಭವಿಷ್ಯದೊಂದಿಗೆ ಹ...</td>\n",
       "    </tr>\n",
       "    <tr>\n",
       "      <th>5</th>\n",
       "      <td>The Kalki 2898 AD movie is an epic dystopian s...</td>\n",
       "      <td>ಕಲ್ಕಿ 2898 ಜಾಹೀರಾತು ಚಲನಚಿತ್ರವು ಒಂದು ಮಹಾಕಾವ್ಯ ಡ...</td>\n",
       "    </tr>\n",
       "    <tr>\n",
       "      <th>6</th>\n",
       "      <td>#NagAshwin dreams big and manages to execute t...</td>\n",
       "      <td>#ನಾಗಾಶ್ವಿನ್ ದೊಡ್ಡ ಕನಸು ಕಾಣುತ್ತಾನೆ ಮತ್ತು ಅಪೋಕ್ಯ...</td>\n",
       "    </tr>\n",
       "    <tr>\n",
       "      <th>7</th>\n",
       "      <td>The soaring epicness of second part of the fil...</td>\n",
       "      <td>ಚಿತ್ರದ ಎರಡನೇ ಭಾಗ ಮತ್ತು ಅತ್ಯುತ್ತಮ ಪರಾಕಾಷ್ಠೆಯ ಮಹ...</td>\n",
       "    </tr>\n",
       "    <tr>\n",
       "      <th>8</th>\n",
       "      <td>Let me share a review of the movie \"Kalki 2898...</td>\n",
       "      <td>\"ಕ್ರಿ.ಶ. ಕಲ್ಕಿ 2898\" ಚಿತ್ರದ ವಿಮರ್ಶೆಯನ್ನು ಹಂಚಿಕ...</td>\n",
       "    </tr>\n",
       "    <tr>\n",
       "      <th>9</th>\n",
       "      <td>I don't understand the obsession with hero ent...</td>\n",
       "      <td>ಹೀರೋ ಎಂಟ್ರಿ ಬಗ್ಗೆ ಗೀಳು ನನಗೆ ಅರ್ಥವಾಗುತ್ತಿಲ್ಲ ಮತ...</td>\n",
       "    </tr>\n",
       "  </tbody>\n",
       "</table>\n",
       "</div>"
      ],
      "text/plain": [
       "                                                Text  \\\n",
       "0  I didnt go in with big hopes, but i was expect...   \n",
       "1  A unique genre, a well written story (script) ...   \n",
       "2  Majestic at scale, grandeur in VFX, and great ...   \n",
       "3  \"Kalki 2898\" is not just a movie; it's an expe...   \n",
       "4  Best Indian movie Nagi combined Hindu mytholog...   \n",
       "5  The Kalki 2898 AD movie is an epic dystopian s...   \n",
       "6  #NagAshwin dreams big and manages to execute t...   \n",
       "7  The soaring epicness of second part of the fil...   \n",
       "8  Let me share a review of the movie \"Kalki 2898...   \n",
       "9  I don't understand the obsession with hero ent...   \n",
       "\n",
       "                                     translated_text  \n",
       "0  ನಾನು ದೊಡ್ಡ ಭರವಸೆಗಳೊಂದಿಗೆ ಹೋಗಲಿಲ್ಲ, ಆದರೆ ನಾನು ಅ...  \n",
       "1  ಒಂದು ಅನನ್ಯ ಪ್ರಕಾರ, ಚೆನ್ನಾಗಿ ಬರೆದ ಕಥೆ (ಸ್ಕ್ರಿಪ್...  \n",
       "2  ಮೆಜೆಸ್ಟಿಕ್ ಅಟ್ ಸ್ಕೇಲ್, ವಿಎಫ್‌ಎಕ್ಸ್‌ನಲ್ಲಿ ಭವ್ಯತ...  \n",
       "3  \"ಕಲ್ಕಿ 2898\" ಕೇವಲ ಚಲನಚಿತ್ರವಲ್ಲ;ಇದು ವೈಜ್ಞಾನಿಕ ಕ...  \n",
       "4  ಅತ್ಯುತ್ತಮ ಭಾರತೀಯ ಚಲನಚಿತ್ರ ನಾಗಿ ಭವಿಷ್ಯದೊಂದಿಗೆ ಹ...  \n",
       "5  ಕಲ್ಕಿ 2898 ಜಾಹೀರಾತು ಚಲನಚಿತ್ರವು ಒಂದು ಮಹಾಕಾವ್ಯ ಡ...  \n",
       "6  #ನಾಗಾಶ್ವಿನ್ ದೊಡ್ಡ ಕನಸು ಕಾಣುತ್ತಾನೆ ಮತ್ತು ಅಪೋಕ್ಯ...  \n",
       "7  ಚಿತ್ರದ ಎರಡನೇ ಭಾಗ ಮತ್ತು ಅತ್ಯುತ್ತಮ ಪರಾಕಾಷ್ಠೆಯ ಮಹ...  \n",
       "8  \"ಕ್ರಿ.ಶ. ಕಲ್ಕಿ 2898\" ಚಿತ್ರದ ವಿಮರ್ಶೆಯನ್ನು ಹಂಚಿಕ...  \n",
       "9  ಹೀರೋ ಎಂಟ್ರಿ ಬಗ್ಗೆ ಗೀಳು ನನಗೆ ಅರ್ಥವಾಗುತ್ತಿಲ್ಲ ಮತ...  "
      ]
     },
     "execution_count": 7,
     "metadata": {},
     "output_type": "execute_result"
    }
   ],
   "source": [
    "df"
   ]
  },
  {
   "cell_type": "markdown",
   "id": "cb57315e",
   "metadata": {},
   "source": [
    "# More simple way to do langugae translation using Deep-Translation library"
   ]
  },
  {
   "cell_type": "code",
   "execution_count": 9,
   "id": "4e684915",
   "metadata": {
    "collapsed": true
   },
   "outputs": [
    {
     "name": "stdout",
     "output_type": "stream",
     "text": [
      "Collecting deep-translator\n",
      "  Downloading deep_translator-1.11.4-py3-none-any.whl.metadata (30 kB)\n",
      "Requirement already satisfied: beautifulsoup4<5.0.0,>=4.9.1 in c:\\users\\navya\\anaconda3\\lib\\site-packages (from deep-translator) (4.12.2)\n",
      "Requirement already satisfied: requests<3.0.0,>=2.23.0 in c:\\users\\navya\\anaconda3\\lib\\site-packages (from deep-translator) (2.29.0)\n",
      "Requirement already satisfied: soupsieve>1.2 in c:\\users\\navya\\anaconda3\\lib\\site-packages (from beautifulsoup4<5.0.0,>=4.9.1->deep-translator) (2.4)\n",
      "Requirement already satisfied: charset-normalizer<4,>=2 in c:\\users\\navya\\anaconda3\\lib\\site-packages (from requests<3.0.0,>=2.23.0->deep-translator) (2.0.4)\n",
      "Requirement already satisfied: idna<4,>=2.5 in c:\\users\\navya\\anaconda3\\lib\\site-packages (from requests<3.0.0,>=2.23.0->deep-translator) (2.10)\n",
      "Requirement already satisfied: urllib3<1.27,>=1.21.1 in c:\\users\\navya\\anaconda3\\lib\\site-packages (from requests<3.0.0,>=2.23.0->deep-translator) (1.26.16)\n",
      "Requirement already satisfied: certifi>=2017.4.17 in c:\\users\\navya\\anaconda3\\lib\\site-packages (from requests<3.0.0,>=2.23.0->deep-translator) (2023.5.7)\n",
      "Downloading deep_translator-1.11.4-py3-none-any.whl (42 kB)\n",
      "   ---------------------------------------- 0.0/42.3 kB ? eta -:--:--\n",
      "   --------- ------------------------------ 10.2/42.3 kB ? eta -:--:--\n",
      "   --------- ------------------------------ 10.2/42.3 kB ? eta -:--:--\n",
      "   ----------------------------- ---------- 30.7/42.3 kB 186.2 kB/s eta 0:00:01\n",
      "   ----------------------------- ---------- 30.7/42.3 kB 186.2 kB/s eta 0:00:01\n",
      "   ----------------------------- ---------- 30.7/42.3 kB 186.2 kB/s eta 0:00:01\n",
      "   ----------------------------- ---------- 30.7/42.3 kB 186.2 kB/s eta 0:00:01\n",
      "   ----------------------------- ---------- 30.7/42.3 kB 186.2 kB/s eta 0:00:01\n",
      "   ----------------------------- ---------- 30.7/42.3 kB 186.2 kB/s eta 0:00:01\n",
      "   ----------------------------- ---------- 30.7/42.3 kB 186.2 kB/s eta 0:00:01\n",
      "   ----------------------------- ---------- 30.7/42.3 kB 186.2 kB/s eta 0:00:01\n",
      "   ----------------------------- ---------- 30.7/42.3 kB 186.2 kB/s eta 0:00:01\n",
      "   ----------------------------- ---------- 30.7/42.3 kB 186.2 kB/s eta 0:00:01\n",
      "   ---------------------------------------- 42.3/42.3 kB 52.5 kB/s eta 0:00:00\n",
      "Installing collected packages: deep-translator\n",
      "Successfully installed deep-translator-1.11.4\n",
      "Note: you may need to restart the kernel to use updated packages.\n"
     ]
    },
    {
     "name": "stderr",
     "output_type": "stream",
     "text": [
      "\n",
      "[notice] A new release of pip is available: 24.0 -> 24.2\n",
      "[notice] To update, run: python.exe -m pip install --upgrade pip\n"
     ]
    }
   ],
   "source": [
    "pip install deep-translator"
   ]
  },
  {
   "cell_type": "code",
   "execution_count": 10,
   "id": "17a4c221",
   "metadata": {},
   "outputs": [],
   "source": [
    "from deep_translator import GoogleTranslator"
   ]
  },
  {
   "cell_type": "code",
   "execution_count": 13,
   "id": "960a0dcb",
   "metadata": {},
   "outputs": [],
   "source": [
    "X=dt.head(10)"
   ]
  },
  {
   "cell_type": "code",
   "execution_count": 18,
   "id": "a0e63728",
   "metadata": {},
   "outputs": [],
   "source": [
    "translet=GoogleTranslator(source=\"auto\",target=\"hi\")\n",
    "\n",
    "X[\"transletd\"]=X[\"Text\"].apply(lambda x:translet.translate(x))"
   ]
  },
  {
   "cell_type": "code",
   "execution_count": 19,
   "id": "a1a5fbef",
   "metadata": {},
   "outputs": [
    {
     "data": {
      "text/html": [
       "<div>\n",
       "<style scoped>\n",
       "    .dataframe tbody tr th:only-of-type {\n",
       "        vertical-align: middle;\n",
       "    }\n",
       "\n",
       "    .dataframe tbody tr th {\n",
       "        vertical-align: top;\n",
       "    }\n",
       "\n",
       "    .dataframe thead th {\n",
       "        text-align: right;\n",
       "    }\n",
       "</style>\n",
       "<table border=\"1\" class=\"dataframe\">\n",
       "  <thead>\n",
       "    <tr style=\"text-align: right;\">\n",
       "      <th></th>\n",
       "      <th>Text</th>\n",
       "      <th>transletd</th>\n",
       "    </tr>\n",
       "  </thead>\n",
       "  <tbody>\n",
       "    <tr>\n",
       "      <th>0</th>\n",
       "      <td>I didnt go in with big hopes, but i was expect...</td>\n",
       "      <td>मैं बड़ी उम्मीदों के साथ नहीं गया था, लेकिन मै...</td>\n",
       "    </tr>\n",
       "    <tr>\n",
       "      <th>1</th>\n",
       "      <td>A unique genre, a well written story (script) ...</td>\n",
       "      <td>एक अनूठी शैली, एक अच्छी तरह से लिखी गई कहानी (...</td>\n",
       "    </tr>\n",
       "    <tr>\n",
       "      <th>2</th>\n",
       "      <td>Majestic at scale, grandeur in VFX, and great ...</td>\n",
       "      <td>भव्य पैमाने पर राजसी, वीएफएक्स में भव्यता, और ...</td>\n",
       "    </tr>\n",
       "    <tr>\n",
       "      <th>3</th>\n",
       "      <td>\"Kalki 2898\" is not just a movie; it's an expe...</td>\n",
       "      <td>\"कल्कि 2898\" सिर्फ़ एक फ़िल्म नहीं है; यह एक ऐ...</td>\n",
       "    </tr>\n",
       "    <tr>\n",
       "      <th>4</th>\n",
       "      <td>Best Indian movie Nagi combined Hindu mytholog...</td>\n",
       "      <td>सर्वश्रेष्ठ भारतीय फिल्म नागी ने हिंदू पौराणिक...</td>\n",
       "    </tr>\n",
       "    <tr>\n",
       "      <th>5</th>\n",
       "      <td>The Kalki 2898 AD movie is an epic dystopian s...</td>\n",
       "      <td>कल्कि 2898 ई.डी. फिल्म नाग अश्विन द्वारा निर्द...</td>\n",
       "    </tr>\n",
       "    <tr>\n",
       "      <th>6</th>\n",
       "      <td>#NagAshwin dreams big and manages to execute t...</td>\n",
       "      <td>#नागअश्विन बड़े सपने देखते हैं और महाभारत के स...</td>\n",
       "    </tr>\n",
       "    <tr>\n",
       "      <th>7</th>\n",
       "      <td>The soaring epicness of second part of the fil...</td>\n",
       "      <td>फिल्म के दूसरे भाग की शानदार महाकाव्यता और बेह...</td>\n",
       "    </tr>\n",
       "    <tr>\n",
       "      <th>8</th>\n",
       "      <td>Let me share a review of the movie \"Kalki 2898...</td>\n",
       "      <td>मैं आपको फिल्म \"कल्कि 2898 ई.\" की समीक्षा बतात...</td>\n",
       "    </tr>\n",
       "    <tr>\n",
       "      <th>9</th>\n",
       "      <td>I don't understand the obsession with hero ent...</td>\n",
       "      <td>मुझे नायक के प्रवेश के प्रति जुनून समझ में नही...</td>\n",
       "    </tr>\n",
       "  </tbody>\n",
       "</table>\n",
       "</div>"
      ],
      "text/plain": [
       "                                                Text  \\\n",
       "0  I didnt go in with big hopes, but i was expect...   \n",
       "1  A unique genre, a well written story (script) ...   \n",
       "2  Majestic at scale, grandeur in VFX, and great ...   \n",
       "3  \"Kalki 2898\" is not just a movie; it's an expe...   \n",
       "4  Best Indian movie Nagi combined Hindu mytholog...   \n",
       "5  The Kalki 2898 AD movie is an epic dystopian s...   \n",
       "6  #NagAshwin dreams big and manages to execute t...   \n",
       "7  The soaring epicness of second part of the fil...   \n",
       "8  Let me share a review of the movie \"Kalki 2898...   \n",
       "9  I don't understand the obsession with hero ent...   \n",
       "\n",
       "                                           transletd  \n",
       "0  मैं बड़ी उम्मीदों के साथ नहीं गया था, लेकिन मै...  \n",
       "1  एक अनूठी शैली, एक अच्छी तरह से लिखी गई कहानी (...  \n",
       "2  भव्य पैमाने पर राजसी, वीएफएक्स में भव्यता, और ...  \n",
       "3  \"कल्कि 2898\" सिर्फ़ एक फ़िल्म नहीं है; यह एक ऐ...  \n",
       "4  सर्वश्रेष्ठ भारतीय फिल्म नागी ने हिंदू पौराणिक...  \n",
       "5  कल्कि 2898 ई.डी. फिल्म नाग अश्विन द्वारा निर्द...  \n",
       "6  #नागअश्विन बड़े सपने देखते हैं और महाभारत के स...  \n",
       "7  फिल्म के दूसरे भाग की शानदार महाकाव्यता और बेह...  \n",
       "8  मैं आपको फिल्म \"कल्कि 2898 ई.\" की समीक्षा बतात...  \n",
       "9  मुझे नायक के प्रवेश के प्रति जुनून समझ में नही...  "
      ]
     },
     "execution_count": 19,
     "metadata": {},
     "output_type": "execute_result"
    }
   ],
   "source": [
    "X"
   ]
  },
  {
   "cell_type": "code",
   "execution_count": null,
   "id": "8fa17c75",
   "metadata": {},
   "outputs": [],
   "source": []
  }
 ],
 "metadata": {
  "kernelspec": {
   "display_name": "Python 3 (ipykernel)",
   "language": "python",
   "name": "python3"
  },
  "language_info": {
   "codemirror_mode": {
    "name": "ipython",
    "version": 3
   },
   "file_extension": ".py",
   "mimetype": "text/x-python",
   "name": "python",
   "nbconvert_exporter": "python",
   "pygments_lexer": "ipython3",
   "version": "3.11.3"
  }
 },
 "nbformat": 4,
 "nbformat_minor": 5
}
